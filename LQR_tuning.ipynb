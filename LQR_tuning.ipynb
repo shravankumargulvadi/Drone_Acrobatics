{
 "cells": [
  {
   "cell_type": "markdown",
   "metadata": {},
   "source": [
    "# Part I: Testing out the Crazyflie (15 Pts)\n",
    "\n",
    "We will first assemble and configure the Crazyflie and run a simple test script to make sure everything is functioning before doing the lab.\n",
    "\n",
    "**If you received an unbuilt drone kit**: First, assemble your Crazyflie. Instructions are located [here](https://www.bitcraze.io/documentation/tutorials/getting-started-with-crazyflie-2-x/). **There is one caveat you should be aware of, however.** Instead of using the short connector pins, you need to use the longer set. This is because we are using the FlowDeck expansion deck, which will provide us with significantly more accurate state measurements. There are instructions for mounting expansion decks on the Crazyflie [here](https://www.bitcraze.io/documentation/tutorials/getting-started-with-expansion-decks/). We suggest you push the pins down until they appear on the other side of the flow deck to ensure a secure connection (the pins can be slid further through the black plastic on the connector but it may take some physical effort). Next, we need to install a few things so that you can set the radio channel your crazyflie uses. \n",
    "\n",
    "**If you received a pre-built drone**: Please carefully read the instructions for building the drone [here](https://www.bitcraze.io/documentation/tutorials/getting-started-with-crazyflie-2-x/). Even though you have a pre-built drone, the instructions contain a lot of useful information about working with the drone (e.g., the correct configuration of propellers, how to attach the battery, how to switch the drone on/off, the meaning of different LED patterns, etc.).   \n",
    "\n",
    "Ensure that you have activated the mae345 conda environment. Then, follow the instructions for your operating system below. Note: Using a Mac (without the M1 chips) is probably the easiest option of the options. For this lab, prioritize setting up at least one person in your group with the software for running the Crazyflie. If you are able to get multiple laptops setup, that's great (but not critical at this stage in the course!). \n",
    "\n",
    "**Linux**\n",
    "\n",
    "`pip install cflib libusb cfclient`\n",
    "\n",
    "Linux only: Update the UDEV rules to recognize the Crazyflie Radio by following the instructions at the end of this [page](https://github.com/bitcraze/crazyflie-lib-python/blob/master/docs/installation/install.md). After completing them, you may need to reboot your computer.\n",
    "\n",
    "**Windows**\n",
    "\n",
    "Follow all installation instructions [here](https://github.com/bitcraze/crazyradio-firmware/blob/master/docs/building/usbwindows.md). You should repeat the driver installation twice: first with the Crazyflie connected by USB, then again with the radio receiver connected.\n",
    "\n",
    "`pip install cflib libusb cfclient`\n",
    "\n",
    "**Mac (without the Apple M1 chip)**\n",
    "\n",
    "These instructions are for Macs with Intel chips (i.e., before Apple moved to the M1 chip). See below for instructions for newer Macs with the M1 chip. If you are unsure what kind of chip your Mac has, click on the Apple logo on the top left of your desktop, click on \"About this Mac\" and see what kind of chip is listed (Intel or M1). \n",
    "\n",
    "Now, make sure you have the `brew` package manager installed. You can check if it is already installed by running `brew help` in your terminal. If you see some output, then continue to the next step. If brew is not installed, install it using the terminal command [here](https://brew.sh/).  \n",
    "\n",
    "Next, in your terminal, run:\n",
    "\n",
    "`brew install libusb`\n",
    "\n",
    "Then, run the following (make sure that you are running this from the mae345 conda environment):\n",
    "\n",
    "`pip install cflib libusb cfclient`\n",
    "\n",
    "**Mac (with the Apple M1 chip)**\n",
    "\n",
    "These instructions are for newer Macs that use the Apple M1 chip. We will first need to install a version of the `brew` package manager that is capable of installing software designed for Intel chips. \n",
    "\n",
    "In your terminal, run the following commands:\n",
    "\n",
    "`cd ~/Downloads\n",
    "mkdir homebrew\n",
    "curl -L https://github.com/Homebrew/brew/tarball/master | tar xz --strip 1 -C homebrew`\n",
    "\n",
    "This creates a directory called `homebrew` in your Downloads folder and downloads homebrew. Now run the following:\n",
    "\n",
    "`sudo mv homebrew /usr/local/homebrew`\n",
    "\n",
    "Open up the ~/.zshrc file by running:\n",
    "\n",
    "`open ~/.zshrc`\n",
    "\n",
    "Then add the following to the end of that file:\n",
    "\n",
    "`export PATH=$HOME/bin:/usr/local/bin:$PATH\n",
    "export PATH=$HOME/bin:/usr/local/bin:$PATH\n",
    "alias axbrew='arch -x86_64 /usr/local/homebrew/bin/brew'\n",
    "`\n",
    "\n",
    "Save the file, close it, and then restart the terminal (you will have to activate the mae345 conda environment again). Now we can use the command `axbrew` to install software designed for Intel chips. \n",
    "\n",
    "Run the following:\n",
    "\n",
    "`axbrew install libusb`\n",
    "\n",
    "Finally, run the following (make sure you're running this from the conda environment):\n",
    "\n",
    "`pip install cfclient`\n",
    "\n",
    "\n",
    "**After installing these packages:** Run `cfclient` in terminal (Mac) or Anaconda Prompt (Windows). For Linux, run the command `python -m cfclient.gui` in terminal and make sure your drone is on. If you receive an error regarding `pysdl2`, install the required packages as described [here](https://github.com/bitcraze/crazyflie-clients-python/issues/592) based on your operating system (`pip install pysdl2 pysdl2-dll`). \n",
    "\n",
    "The `cfclient` software is a GUI for interacting with the Crazyflie. Connect the Crazyflie to your computer by USB and turn it on. Then, hit `Scan` in the upper left of the window and from the drop down menu pick `usb://0` and hit `Connect`. This uses the USB interface to connect to the drone. In the console tab (hit `View -> Tabs -> Console` if it isn't present), you should see `Crazyflie 2.1 is up and running!` followed by other information. \n",
    "\n",
    "The last thing we have to do is set the radio channel the Crazyflie will operate on and will prevent other groups from sending commands to your drone (or your commands to their drone). Hit `Connect -> Configure 2.X`. Set the radio channel option in the dialog box that appears to **Ch.\\<your group number\\>**. Also make sure that the radio bandwith is 2 MBit/s (if it's set to something else, change it to 2 MBit/s). Hit `Write` (if you don't, this won't be saved). Now, change the value of the variable in the cell below to your group number."
   ]
  },
  {
   "cell_type": "code",
   "execution_count": null,
   "metadata": {},
   "outputs": [],
   "source": [
    "group_number = 1"
   ]
  },
  {
   "cell_type": "markdown",
   "metadata": {},
   "source": [
    "Next, disconnect the Crazyflie from the USB and plug in the CrazyRadio, hit the `Disconnect` button and `Scan` again. You should see an address that looks something like `radio://0/<group_number>/2M`. You don't need to connect to it again, and, in fact, you can't command the drone via Python while it's connected to the GUI. However, you should confirm the address exists.\n",
    "\n",
    "To check that everything is working properly, run the following cell. It will print a bunch of logging information (specifically the roll, pitch, and yaw of the drone).\n",
    "\n",
    "Some tips for working with the Crazyflie:\n",
    "- The connection with the drone is not always the most stable. Sometimes, a glitch occurs and you may need to restart the drone and / or Jupyter. To restart Jupyter, open the terminal where you ran `jupyter notebook` and hit `Ctrl + C` followed by `y` and `ENTER`.\n",
    "- Sometimes the drone gets a poor initialization before flying. If it crashes before stabilizing at the hover point, it is unlikely your code is wrong. You may need to just run it again. It helps to plug in the battery/powering the drone on when it is flat on a surface.\n",
    "- **Turn the quadrotor on when it is plugged in to charge it!** It will not charge when it is powered off so that the onboard processor can monitor the battery and prevent it from overcharging.\n",
    "- See [this page](https://github.com/Princeton-Introduction-to-Robotics/F2022/blob/main/crazyflie-tips.md) for a compilation of useful tips. "
   ]
  },
  {
   "cell_type": "code",
   "execution_count": null,
   "metadata": {},
   "outputs": [],
   "source": [
    "# This is an example from the Crazyflie Python API.\n",
    "# See https://github.com/bitcraze/crazyflie-lib-python/blob/master/examples/basiclogSync.py\n",
    "\n",
    "import logging\n",
    "import time\n",
    "\n",
    "import cflib.crtp\n",
    "from cflib.crazyflie import Crazyflie\n",
    "from cflib.crazyflie.log import LogConfig\n",
    "from cflib.crazyflie.syncCrazyflie import SyncCrazyflie\n",
    "from cflib.crazyflie.syncLogger import SyncLogger\n",
    "\n",
    "# Only output errors from the logging framework\n",
    "logging.basicConfig(level=logging.ERROR)\n",
    "\n",
    "\n",
    "# Initialize the low-level drivers (don't list the debug drivers)\n",
    "cflib.crtp.init_drivers(enable_debug_driver=False)\n",
    "# Scan for Crazyflies and use the first one found\n",
    "print('Scanning interfaces for Crazyflies...')\n",
    "available = cflib.crtp.scan_interfaces()\n",
    "print('Crazyflies found:')\n",
    "for i in available:\n",
    "    print(i[0])\n",
    "\n",
    "if len(available) == 0:\n",
    "    print('No Crazyflies found, cannot run example')\n",
    "else:\n",
    "    lg_stab = LogConfig(name='Stabilizer', period_in_ms=10)\n",
    "    lg_stab.add_variable('stabilizer.roll', 'float')\n",
    "    lg_stab.add_variable('stabilizer.pitch', 'float')\n",
    "    lg_stab.add_variable('stabilizer.yaw', 'float')\n",
    "\n",
    "    cf = Crazyflie(rw_cache='./cache')\n",
    "    with SyncCrazyflie(available[0][0], cf=cf) as scf:\n",
    "        with SyncLogger(scf, lg_stab) as logger:\n",
    "            endTime = time.time() + 10\n",
    "\n",
    "            for log_entry in logger:\n",
    "                timestamp = log_entry[0]\n",
    "                data = log_entry[1]\n",
    "                logconf_name = log_entry[2]\n",
    "\n",
    "                print('[%d][%s]: %s' % (timestamp, logconf_name, data))\n",
    "\n",
    "                if time.time() > endTime:\n",
    "                    break\n"
   ]
  },
  {
   "cell_type": "markdown",
   "metadata": {},
   "source": [
    "# Part II: LQR Control of a Quadrotor\n",
    "\n",
    "In this part, we are going to use a hover state linearization of the quadrotor, like you wrote in the previous lab to allow the quadrotor to hover. First, we are going to import the various classes and functions we need."
   ]
  },
  {
   "cell_type": "code",
   "execution_count": 2,
   "metadata": {},
   "outputs": [],
   "source": [
    "from quad_utils import plotting, Crazyflie as CF, animate_quad\n",
    "import matplotlib.pyplot as plt\n",
    "import numpy as np\n",
    "from scipy.linalg import solve_continuous_are\n",
    "from IPython.display import HTML, Image"
   ]
  },
  {
   "cell_type": "markdown",
   "metadata": {},
   "source": [
    "## Problem 1 (20 Pts)\n",
    "\n",
    "Now, in the cell below, you will fillout the function that will actually solve the LQR problem. That is, given the matrices $\\mathbf{A}, \\mathbf{B}, \\mathbf{Q}, \\mathbf{R}$, you should compute the $K$ that minimizes the LQR cost function. You are encouraged to use the function `scipy.linalg.solve_continuous_are` to solve the CARE. Also, we use the convention that the stabilizing control input is given by $\\mathbf{u} = \\mathbf{K}\\mathbf{x}$ (as opposed to $\\mathbf{u} = -\\mathbf{K}\\mathbf{x}$)."
   ]
  },
  {
   "cell_type": "code",
   "execution_count": 3,
   "metadata": {},
   "outputs": [],
   "source": [
    "def lqr(A: np.ndarray, B: np.ndarray, Q: np.ndarray, R: np.ndarray) -> np.ndarray:\n",
    "    S=solve_continuous_are(A,B,Q,R)\n",
    "    K=-np.linalg.inv(R)@np.transpose(B)@S\n",
    "    #K=np.array([[0,0,0.500000000000000,0,0,0,0,0,0.166375000000000,0,0,0],[0,-0.000711512473537874,0,0.0242813448457065,0,0,0,-0.00298424248869664,0,0.00316284410733867,0,0],[0.000711512473537946,0,0,0,0.0242813448457095,0,0.00298424248869694,0,0,0,0.00316284410733867,0],[0,0,0,0,0,0.00666666666666733,0,0,0,0,0,0.00316320407182333]])\n",
    "    return K"
   ]
  },
  {
   "cell_type": "markdown",
   "metadata": {},
   "source": [
    "## Problem 2 (30 Pts)\n",
    "\n",
    "Finally, you will use all the code you have written thus far to actually stabilize your Crazyflie. The following code implements a version of the Crazyflie class from our `quad_utils` library that uses the linearization and LQR functions you just wrote. This class is useful as it provides simulation and animation functionality to verify your controller is working. It also saves out $\\mathbf{K}$ so it can be loaded onto the actual quadrotor for control. You will need to adjust the gains yourself, but we filled in a few for you to get started."
   ]
  },
  {
   "cell_type": "markdown",
   "metadata": {},
   "source": [
    "### LQR Simulation\n",
    "\n",
    "The code for this problem is broken into two sections: designing the LQR controller and running the Crazyflie. \n",
    "\n",
    "The following cell uses the `lqr` function you just wrote in conjunction with our implementation of the linearization function from the previous lab (here as `self.hover_state_linearization()`) to create an instance of the `CrazyflieLQR` class. The details of this process are not important, but this class provides a lot of functionality for designing the LQR controller. It also saves the $\\mathbf{K}$ matrix out as `quad_data/lqr_gains.npy`. Run this block to set your gains."
   ]
  },
  {
   "cell_type": "code",
   "execution_count": 19,
   "metadata": {},
   "outputs": [
    {
     "name": "stdout",
     "output_type": "stream",
     "text": [
      "Using K matrix:\n",
      "\n",
      "[[-5.53357820e-15  0.00000000e+00 -1.00000000e+01  0.00000000e+00\n",
      "   9.55426549e-17  0.00000000e+00 -3.67076657e-14  0.00000000e+00\n",
      "  -2.36643191e+00  0.00000000e+00 -1.03084507e-15  0.00000000e+00]\n",
      " [ 0.00000000e+00 -4.08248290e-02  0.00000000e+00 -6.78743424e-02\n",
      "   0.00000000e+00 -1.46127134e-18  0.00000000e+00 -2.54722408e-02\n",
      "   0.00000000e+00 -9.23364230e-03  0.00000000e+00  9.10294382e-21]\n",
      " [ 9.12870929e-03  0.00000000e+00 -2.91274729e-15  0.00000000e+00\n",
      "  -2.19983075e-02  0.00000000e+00  1.11497185e-02  0.00000000e+00\n",
      "  -3.65833299e-17  0.00000000e+00 -2.18781511e-03  0.00000000e+00]\n",
      " [ 0.00000000e+00  1.02095012e-12  0.00000000e+00  1.67584629e-12\n",
      "   0.00000000e+00 -7.07106781e+00  0.00000000e+00  8.06281899e-13\n",
      "   0.00000000e+00  2.60664775e-15  0.00000000e+00 -7.07404129e-01]]\n"
     ]
    },
    {
     "data": {
      "text/plain": [
       "array([[-5.53357820e-15,  0.00000000e+00, -1.00000000e+01,\n",
       "         0.00000000e+00,  9.55426549e-17,  0.00000000e+00,\n",
       "        -3.67076657e-14,  0.00000000e+00, -2.36643191e+00,\n",
       "         0.00000000e+00, -1.03084507e-15,  0.00000000e+00],\n",
       "       [ 0.00000000e+00, -4.08248290e-02,  0.00000000e+00,\n",
       "        -6.78743424e-02,  0.00000000e+00, -1.46127134e-18,\n",
       "         0.00000000e+00, -2.54722408e-02,  0.00000000e+00,\n",
       "        -9.23364230e-03,  0.00000000e+00,  9.10294382e-21],\n",
       "       [ 9.12870929e-03,  0.00000000e+00, -2.91274729e-15,\n",
       "         0.00000000e+00, -2.19983075e-02,  0.00000000e+00,\n",
       "         1.11497185e-02,  0.00000000e+00, -3.65833299e-17,\n",
       "         0.00000000e+00, -2.18781511e-03,  0.00000000e+00],\n",
       "       [ 0.00000000e+00,  1.02095012e-12,  0.00000000e+00,\n",
       "         1.67584629e-12,  0.00000000e+00, -7.07106781e+00,\n",
       "         0.00000000e+00,  8.06281899e-13,  0.00000000e+00,\n",
       "         2.60664775e-15,  0.00000000e+00, -7.07404129e-01]])"
      ]
     },
     "execution_count": 19,
     "metadata": {},
     "output_type": "execute_result"
    }
   ],
   "source": [
    "class CrazyflieLQR(CF):\n",
    "    def __init__(self, Q: np.ndarray, R: np.ndarray, hover_pos: np.ndarray):\n",
    "        super().__init__()\n",
    "        self._hover_pos = hover_pos\n",
    "        self._hover_state = np.concatenate([self._hover_pos, np.zeros(9)])\n",
    "        A, B =  self.hover_state_linearization()\n",
    "        self._K = lqr(A, B, Q, R)\n",
    "        \n",
    "        print('Using K matrix:')\n",
    "        print()\n",
    "        print(self._K)\n",
    "        \n",
    "        np.save('quad_data/lqr_gains', self._K)\n",
    "        \n",
    "    @property\n",
    "    def K(self) -> np.ndarray:\n",
    "        return self._K\n",
    "    \n",
    "    def controller(self, state: np.ndarray, t: float) -> np.ndarray:\n",
    "        return self._K @ (state - self._hover_state) + np.array([self.mass * self.gravity, 0, 0, 0])\n",
    "\n",
    "# The first argument is the Q matrix, the second is the R matrix. You can disregard the third argument.\n",
    "#quad = CrazyflieLQR(np.diag([1000, 1000, 2000, 0.001, 0.001, 1, 100, 100, 1, 0.005, 0.005, 1]), 2 * np.diag([1e5, 6e9, 6e9, 1e4]), np.zeros(3))\n",
    "#quad = CrazyflieLQR(np.diag([100, 100, 2000, 1, 10, 100, 100, 100, 100, 5, 5, 1]), 2 * np.diag([10, 6e5, 6e5, 1]), np.zeros(3))\n",
    "quad = CrazyflieLQR(np.diag([100, 2000, 2000, 10, 10, 100, 100, 100, 100, 100, 5, 1]), 2 * np.diag([10, 6e5, 6e5, 1]), np.zeros(3))\n",
    "quad.K\n"
   ]
  },
  {
   "cell_type": "markdown",
   "metadata": {},
   "source": [
    "This next cell simulates the quadrotor flying with a random initial condition for five seconds and plots some of the states. You should see the system stabilize for most choices of the random initial conditions, or your gains will almost certainly not work on the real Crazyflie. Feel free to change the plotted variables."
   ]
  },
  {
   "cell_type": "code",
   "execution_count": 20,
   "metadata": {},
   "outputs": [
    {
     "data": {
      "text/plain": [
       "<matplotlib.legend.Legend at 0x1aa3fad47f0>"
      ]
     },
     "execution_count": 20,
     "metadata": {},
     "output_type": "execute_result"
    },
    {
     "data": {
      "image/png": "[encoded data removed]",
      "text/plain": [
       "<Figure size 1600x800 with 2 Axes>"
      ]
     },
     "metadata": {},
     "output_type": "display_data"
    }
   ],
   "source": [
    "# Uncomment the following line if you want to use the same random initial condition.\n",
    "np.random.seed(0)\n",
    "\n",
    "ic = np.random.rand(12) * 1.2\n",
    "ic[0:3] = ic[0:3] / 5\n",
    "ic[6:9] = ic[6:9] / 5\n",
    "\n",
    "times, states, inputs = quad.simulate(ic, 5, 0.001, clip_input=True)\n",
    "\n",
    "#%matplotlib notebook\n",
    "plt.rcParams[\"figure.figsize\"] = (16,8)\n",
    "fig = plt.figure()\n",
    "\n",
    "ax = fig.add_subplot(121, title='Position')\n",
    "ax.plot(times, states[0, :], label='x')\n",
    "ax.plot(times, states[1, :], label='y')\n",
    "ax.plot(times, states[2, :], label='z')\n",
    "ax.legend()\n",
    "\n",
    "ax = fig.add_subplot(122, title='Angles')\n",
    "ax.plot(times, states[3, :], label='phi')\n",
    "ax.plot(times, states[4, :], label='theta')\n",
    "ax.plot(times, states[5, :], label='psi')\n",
    "ax.legend()"
   ]
  },
  {
   "cell_type": "markdown",
   "metadata": {},
   "source": [
    "This cell optionally animates the simulation data computed and plotted in the previous cell."
   ]
  },
  {
   "cell_type": "code",
   "execution_count": 13,
   "metadata": {},
   "outputs": [
    {
     "ename": "KeyboardInterrupt",
     "evalue": "",
     "output_type": "error",
     "traceback": [
      "\u001b[1;31m---------------------------------------------------------------------------\u001b[0m",
      "\u001b[1;31mKeyboardInterrupt\u001b[0m                         Traceback (most recent call last)",
      "\u001b[1;32me:\\study\\study\\Masters\\studies\\ACSI\\Project\\LQR\\F2022\\Lab2.ipynb Cell 15\u001b[0m in \u001b[0;36m<cell line: 1>\u001b[1;34m()\u001b[0m\n\u001b[1;32m----> <a href='vscode-notebook-cell:/e%3A/study/study/Masters/studies/ACSI/Project/LQR/F2022/Lab2.ipynb#X20sZmlsZQ%3D%3D?line=0'>1</a>\u001b[0m animate_quad(\u001b[39m0.1\u001b[39;49m, states)\u001b[39m.\u001b[39;49msave(\u001b[39m'\u001b[39;49m\u001b[39m./anim.gif\u001b[39;49m\u001b[39m'\u001b[39;49m, writer\u001b[39m=\u001b[39;49m\u001b[39m'\u001b[39;49m\u001b[39mpillow\u001b[39;49m\u001b[39m'\u001b[39;49m, fps\u001b[39m=\u001b[39;49m\u001b[39m100\u001b[39;49m)\n\u001b[0;32m      <a href='vscode-notebook-cell:/e%3A/study/study/Masters/studies/ACSI/Project/LQR/F2022/Lab2.ipynb#X20sZmlsZQ%3D%3D?line=1'>2</a>\u001b[0m Image(url\u001b[39m=\u001b[39m\u001b[39m'\u001b[39m\u001b[39m./anim.gif\u001b[39m\u001b[39m'\u001b[39m)\n",
      "File \u001b[1;32mc:\\Users\\shrav\\anaconda3\\lib\\site-packages\\matplotlib\\animation.py:1093\u001b[0m, in \u001b[0;36mAnimation.save\u001b[1;34m(self, filename, writer, fps, dpi, codec, bitrate, extra_args, metadata, extra_anim, savefig_kwargs, progress_callback)\u001b[0m\n\u001b[0;32m   1091\u001b[0m         progress_callback(frame_number, total_frames)\n\u001b[0;32m   1092\u001b[0m         frame_number \u001b[39m+\u001b[39m\u001b[39m=\u001b[39m \u001b[39m1\u001b[39m\n\u001b[1;32m-> 1093\u001b[0m writer\u001b[39m.\u001b[39mgrab_frame(\u001b[39m*\u001b[39m\u001b[39m*\u001b[39msavefig_kwargs)\n",
      "File \u001b[1;32mc:\\Users\\shrav\\anaconda3\\lib\\site-packages\\matplotlib\\animation.py:506\u001b[0m, in \u001b[0;36mPillowWriter.grab_frame\u001b[1;34m(self, **savefig_kwargs)\u001b[0m\n\u001b[0;32m    504\u001b[0m \u001b[39mdef\u001b[39;00m \u001b[39mgrab_frame\u001b[39m(\u001b[39mself\u001b[39m, \u001b[39m*\u001b[39m\u001b[39m*\u001b[39msavefig_kwargs):\n\u001b[0;32m    505\u001b[0m     buf \u001b[39m=\u001b[39m BytesIO()\n\u001b[1;32m--> 506\u001b[0m     \u001b[39mself\u001b[39m\u001b[39m.\u001b[39mfig\u001b[39m.\u001b[39msavefig(\n\u001b[0;32m    507\u001b[0m         buf, \u001b[39m*\u001b[39m\u001b[39m*\u001b[39m{\u001b[39m*\u001b[39m\u001b[39m*\u001b[39msavefig_kwargs, \u001b[39m\"\u001b[39m\u001b[39mformat\u001b[39m\u001b[39m\"\u001b[39m: \u001b[39m\"\u001b[39m\u001b[39mrgba\u001b[39m\u001b[39m\"\u001b[39m, \u001b[39m\"\u001b[39m\u001b[39mdpi\u001b[39m\u001b[39m\"\u001b[39m: \u001b[39mself\u001b[39m\u001b[39m.\u001b[39mdpi})\n\u001b[0;32m    508\u001b[0m     \u001b[39mself\u001b[39m\u001b[39m.\u001b[39m_frames\u001b[39m.\u001b[39mappend(Image\u001b[39m.\u001b[39mfrombuffer(\n\u001b[0;32m    509\u001b[0m         \u001b[39m\"\u001b[39m\u001b[39mRGBA\u001b[39m\u001b[39m\"\u001b[39m, \u001b[39mself\u001b[39m\u001b[39m.\u001b[39mframe_size, buf\u001b[39m.\u001b[39mgetbuffer(), \u001b[39m\"\u001b[39m\u001b[39mraw\u001b[39m\u001b[39m\"\u001b[39m, \u001b[39m\"\u001b[39m\u001b[39mRGBA\u001b[39m\u001b[39m\"\u001b[39m, \u001b[39m0\u001b[39m, \u001b[39m1\u001b[39m))\n",
      "File \u001b[1;32mc:\\Users\\shrav\\anaconda3\\lib\\site-packages\\matplotlib\\figure.py:3046\u001b[0m, in \u001b[0;36mFigure.savefig\u001b[1;34m(self, fname, transparent, **kwargs)\u001b[0m\n\u001b[0;32m   3042\u001b[0m     \u001b[39mfor\u001b[39;00m ax \u001b[39min\u001b[39;00m \u001b[39mself\u001b[39m\u001b[39m.\u001b[39maxes:\n\u001b[0;32m   3043\u001b[0m         stack\u001b[39m.\u001b[39menter_context(\n\u001b[0;32m   3044\u001b[0m             ax\u001b[39m.\u001b[39mpatch\u001b[39m.\u001b[39m_cm_set(facecolor\u001b[39m=\u001b[39m\u001b[39m'\u001b[39m\u001b[39mnone\u001b[39m\u001b[39m'\u001b[39m, edgecolor\u001b[39m=\u001b[39m\u001b[39m'\u001b[39m\u001b[39mnone\u001b[39m\u001b[39m'\u001b[39m))\n\u001b[1;32m-> 3046\u001b[0m \u001b[39mself\u001b[39m\u001b[39m.\u001b[39mcanvas\u001b[39m.\u001b[39mprint_figure(fname, \u001b[39m*\u001b[39m\u001b[39m*\u001b[39mkwargs)\n",
      "File \u001b[1;32mc:\\Users\\shrav\\anaconda3\\lib\\site-packages\\matplotlib\\backend_bases.py:2319\u001b[0m, in \u001b[0;36mFigureCanvasBase.print_figure\u001b[1;34m(self, filename, dpi, facecolor, edgecolor, orientation, format, bbox_inches, pad_inches, bbox_extra_artists, backend, **kwargs)\u001b[0m\n\u001b[0;32m   2315\u001b[0m \u001b[39mtry\u001b[39;00m:\n\u001b[0;32m   2316\u001b[0m     \u001b[39m# _get_renderer may change the figure dpi (as vector formats\u001b[39;00m\n\u001b[0;32m   2317\u001b[0m     \u001b[39m# force the figure dpi to 72), so we need to set it again here.\u001b[39;00m\n\u001b[0;32m   2318\u001b[0m     \u001b[39mwith\u001b[39;00m cbook\u001b[39m.\u001b[39m_setattr_cm(\u001b[39mself\u001b[39m\u001b[39m.\u001b[39mfigure, dpi\u001b[39m=\u001b[39mdpi):\n\u001b[1;32m-> 2319\u001b[0m         result \u001b[39m=\u001b[39m print_method(\n\u001b[0;32m   2320\u001b[0m             filename,\n\u001b[0;32m   2321\u001b[0m             facecolor\u001b[39m=\u001b[39mfacecolor,\n\u001b[0;32m   2322\u001b[0m             edgecolor\u001b[39m=\u001b[39medgecolor,\n\u001b[0;32m   2323\u001b[0m             orientation\u001b[39m=\u001b[39morientation,\n\u001b[0;32m   2324\u001b[0m             bbox_inches_restore\u001b[39m=\u001b[39m_bbox_inches_restore,\n\u001b[0;32m   2325\u001b[0m             \u001b[39m*\u001b[39m\u001b[39m*\u001b[39mkwargs)\n\u001b[0;32m   2326\u001b[0m \u001b[39mfinally\u001b[39;00m:\n\u001b[0;32m   2327\u001b[0m     \u001b[39mif\u001b[39;00m bbox_inches \u001b[39mand\u001b[39;00m restore_bbox:\n",
      "File \u001b[1;32mc:\\Users\\shrav\\anaconda3\\lib\\site-packages\\matplotlib\\backend_bases.py:1648\u001b[0m, in \u001b[0;36m_check_savefig_extra_args.<locals>.wrapper\u001b[1;34m(*args, **kwargs)\u001b[0m\n\u001b[0;32m   1640\u001b[0m     _api\u001b[39m.\u001b[39mwarn_deprecated(\n\u001b[0;32m   1641\u001b[0m         \u001b[39m'\u001b[39m\u001b[39m3.3\u001b[39m\u001b[39m'\u001b[39m, name\u001b[39m=\u001b[39mname, removal\u001b[39m=\u001b[39m\u001b[39m'\u001b[39m\u001b[39m3.6\u001b[39m\u001b[39m'\u001b[39m,\n\u001b[0;32m   1642\u001b[0m         message\u001b[39m=\u001b[39m\u001b[39m'\u001b[39m\u001b[39m%(name)s\u001b[39;00m\u001b[39m() got unexpected keyword argument \u001b[39m\u001b[39m\"\u001b[39m\u001b[39m'\u001b[39m\n\u001b[0;32m   1643\u001b[0m                 \u001b[39m+\u001b[39m arg \u001b[39m+\u001b[39m \u001b[39m'\u001b[39m\u001b[39m\"\u001b[39m\u001b[39m which is no longer supported as of \u001b[39m\u001b[39m'\u001b[39m\n\u001b[0;32m   1644\u001b[0m                 \u001b[39m'\u001b[39m\u001b[39m%(since)s\u001b[39;00m\u001b[39m and will become an error \u001b[39m\u001b[39m'\u001b[39m\n\u001b[0;32m   1645\u001b[0m                 \u001b[39m'\u001b[39m\u001b[39m%(removal)s\u001b[39;00m\u001b[39m'\u001b[39m)\n\u001b[0;32m   1646\u001b[0m     kwargs\u001b[39m.\u001b[39mpop(arg)\n\u001b[1;32m-> 1648\u001b[0m \u001b[39mreturn\u001b[39;00m func(\u001b[39m*\u001b[39margs, \u001b[39m*\u001b[39m\u001b[39m*\u001b[39mkwargs)\n",
      "File \u001b[1;32mc:\\Users\\shrav\\anaconda3\\lib\\site-packages\\matplotlib\\_api\\deprecation.py:415\u001b[0m, in \u001b[0;36mdelete_parameter.<locals>.wrapper\u001b[1;34m(*inner_args, **inner_kwargs)\u001b[0m\n\u001b[0;32m    405\u001b[0m     deprecation_addendum \u001b[39m=\u001b[39m (\n\u001b[0;32m    406\u001b[0m         \u001b[39mf\u001b[39m\u001b[39m\"\u001b[39m\u001b[39mIf any parameter follows \u001b[39m\u001b[39m{\u001b[39;00mname\u001b[39m!r}\u001b[39;00m\u001b[39m, they should be passed as \u001b[39m\u001b[39m\"\u001b[39m\n\u001b[0;32m    407\u001b[0m         \u001b[39mf\u001b[39m\u001b[39m\"\u001b[39m\u001b[39mkeyword, not positionally.\u001b[39m\u001b[39m\"\u001b[39m)\n\u001b[0;32m    408\u001b[0m     warn_deprecated(\n\u001b[0;32m    409\u001b[0m         since,\n\u001b[0;32m    410\u001b[0m         name\u001b[39m=\u001b[39m\u001b[39mrepr\u001b[39m(name),\n\u001b[1;32m   (...)\u001b[0m\n\u001b[0;32m    413\u001b[0m                  \u001b[39melse\u001b[39;00m deprecation_addendum,\n\u001b[0;32m    414\u001b[0m         \u001b[39m*\u001b[39m\u001b[39m*\u001b[39mkwargs)\n\u001b[1;32m--> 415\u001b[0m \u001b[39mreturn\u001b[39;00m func(\u001b[39m*\u001b[39minner_args, \u001b[39m*\u001b[39m\u001b[39m*\u001b[39minner_kwargs)\n",
      "File \u001b[1;32mc:\\Users\\shrav\\anaconda3\\lib\\site-packages\\matplotlib\\backends\\backend_agg.py:483\u001b[0m, in \u001b[0;36mFigureCanvasAgg.print_raw\u001b[1;34m(self, filename_or_obj, *args)\u001b[0m\n\u001b[0;32m    480\u001b[0m \u001b[39m@_check_savefig_extra_args\u001b[39m\n\u001b[0;32m    481\u001b[0m \u001b[39m@_api\u001b[39m\u001b[39m.\u001b[39mdelete_parameter(\u001b[39m\"\u001b[39m\u001b[39m3.5\u001b[39m\u001b[39m\"\u001b[39m, \u001b[39m\"\u001b[39m\u001b[39margs\u001b[39m\u001b[39m\"\u001b[39m)\n\u001b[0;32m    482\u001b[0m \u001b[39mdef\u001b[39;00m \u001b[39mprint_raw\u001b[39m(\u001b[39mself\u001b[39m, filename_or_obj, \u001b[39m*\u001b[39margs):\n\u001b[1;32m--> 483\u001b[0m     FigureCanvasAgg\u001b[39m.\u001b[39;49mdraw(\u001b[39mself\u001b[39;49m)\n\u001b[0;32m    484\u001b[0m     renderer \u001b[39m=\u001b[39m \u001b[39mself\u001b[39m\u001b[39m.\u001b[39mget_renderer()\n\u001b[0;32m    485\u001b[0m     \u001b[39mwith\u001b[39;00m cbook\u001b[39m.\u001b[39mopen_file_cm(filename_or_obj, \u001b[39m\"\u001b[39m\u001b[39mwb\u001b[39m\u001b[39m\"\u001b[39m) \u001b[39mas\u001b[39;00m fh:\n",
      "File \u001b[1;32mc:\\Users\\shrav\\anaconda3\\lib\\site-packages\\matplotlib\\backends\\backend_agg.py:436\u001b[0m, in \u001b[0;36mFigureCanvasAgg.draw\u001b[1;34m(self)\u001b[0m\n\u001b[0;32m    432\u001b[0m \u001b[39m# Acquire a lock on the shared font cache.\u001b[39;00m\n\u001b[0;32m    433\u001b[0m \u001b[39mwith\u001b[39;00m RendererAgg\u001b[39m.\u001b[39mlock, \\\n\u001b[0;32m    434\u001b[0m      (\u001b[39mself\u001b[39m\u001b[39m.\u001b[39mtoolbar\u001b[39m.\u001b[39m_wait_cursor_for_draw_cm() \u001b[39mif\u001b[39;00m \u001b[39mself\u001b[39m\u001b[39m.\u001b[39mtoolbar\n\u001b[0;32m    435\u001b[0m       \u001b[39melse\u001b[39;00m nullcontext()):\n\u001b[1;32m--> 436\u001b[0m     \u001b[39mself\u001b[39;49m\u001b[39m.\u001b[39;49mfigure\u001b[39m.\u001b[39;49mdraw(\u001b[39mself\u001b[39;49m\u001b[39m.\u001b[39;49mrenderer)\n\u001b[0;32m    437\u001b[0m     \u001b[39m# A GUI class may be need to update a window using this draw, so\u001b[39;00m\n\u001b[0;32m    438\u001b[0m     \u001b[39m# don't forget to call the superclass.\u001b[39;00m\n\u001b[0;32m    439\u001b[0m     \u001b[39msuper\u001b[39m()\u001b[39m.\u001b[39mdraw()\n",
      "File \u001b[1;32mc:\\Users\\shrav\\anaconda3\\lib\\site-packages\\matplotlib\\artist.py:73\u001b[0m, in \u001b[0;36m_finalize_rasterization.<locals>.draw_wrapper\u001b[1;34m(artist, renderer, *args, **kwargs)\u001b[0m\n\u001b[0;32m     71\u001b[0m \u001b[39m@wraps\u001b[39m(draw)\n\u001b[0;32m     72\u001b[0m \u001b[39mdef\u001b[39;00m \u001b[39mdraw_wrapper\u001b[39m(artist, renderer, \u001b[39m*\u001b[39margs, \u001b[39m*\u001b[39m\u001b[39m*\u001b[39mkwargs):\n\u001b[1;32m---> 73\u001b[0m     result \u001b[39m=\u001b[39m draw(artist, renderer, \u001b[39m*\u001b[39margs, \u001b[39m*\u001b[39m\u001b[39m*\u001b[39mkwargs)\n\u001b[0;32m     74\u001b[0m     \u001b[39mif\u001b[39;00m renderer\u001b[39m.\u001b[39m_rasterizing:\n\u001b[0;32m     75\u001b[0m         renderer\u001b[39m.\u001b[39mstop_rasterizing()\n",
      "File \u001b[1;32mc:\\Users\\shrav\\anaconda3\\lib\\site-packages\\matplotlib\\artist.py:50\u001b[0m, in \u001b[0;36mallow_rasterization.<locals>.draw_wrapper\u001b[1;34m(artist, renderer)\u001b[0m\n\u001b[0;32m     47\u001b[0m     \u001b[39mif\u001b[39;00m artist\u001b[39m.\u001b[39mget_agg_filter() \u001b[39mis\u001b[39;00m \u001b[39mnot\u001b[39;00m \u001b[39mNone\u001b[39;00m:\n\u001b[0;32m     48\u001b[0m         renderer\u001b[39m.\u001b[39mstart_filter()\n\u001b[1;32m---> 50\u001b[0m     \u001b[39mreturn\u001b[39;00m draw(artist, renderer)\n\u001b[0;32m     51\u001b[0m \u001b[39mfinally\u001b[39;00m:\n\u001b[0;32m     52\u001b[0m     \u001b[39mif\u001b[39;00m artist\u001b[39m.\u001b[39mget_agg_filter() \u001b[39mis\u001b[39;00m \u001b[39mnot\u001b[39;00m \u001b[39mNone\u001b[39;00m:\n",
      "File \u001b[1;32mc:\\Users\\shrav\\anaconda3\\lib\\site-packages\\matplotlib\\figure.py:2837\u001b[0m, in \u001b[0;36mFigure.draw\u001b[1;34m(self, renderer)\u001b[0m\n\u001b[0;32m   2834\u001b[0m         \u001b[39m# ValueError can occur when resizing a window.\u001b[39;00m\n\u001b[0;32m   2836\u001b[0m \u001b[39mself\u001b[39m\u001b[39m.\u001b[39mpatch\u001b[39m.\u001b[39mdraw(renderer)\n\u001b[1;32m-> 2837\u001b[0m mimage\u001b[39m.\u001b[39;49m_draw_list_compositing_images(\n\u001b[0;32m   2838\u001b[0m     renderer, \u001b[39mself\u001b[39;49m, artists, \u001b[39mself\u001b[39;49m\u001b[39m.\u001b[39;49msuppressComposite)\n\u001b[0;32m   2840\u001b[0m \u001b[39mfor\u001b[39;00m sfig \u001b[39min\u001b[39;00m \u001b[39mself\u001b[39m\u001b[39m.\u001b[39msubfigs:\n\u001b[0;32m   2841\u001b[0m     sfig\u001b[39m.\u001b[39mdraw(renderer)\n",
      "File \u001b[1;32mc:\\Users\\shrav\\anaconda3\\lib\\site-packages\\matplotlib\\image.py:132\u001b[0m, in \u001b[0;36m_draw_list_compositing_images\u001b[1;34m(renderer, parent, artists, suppress_composite)\u001b[0m\n\u001b[0;32m    130\u001b[0m \u001b[39mif\u001b[39;00m not_composite \u001b[39mor\u001b[39;00m \u001b[39mnot\u001b[39;00m has_images:\n\u001b[0;32m    131\u001b[0m     \u001b[39mfor\u001b[39;00m a \u001b[39min\u001b[39;00m artists:\n\u001b[1;32m--> 132\u001b[0m         a\u001b[39m.\u001b[39;49mdraw(renderer)\n\u001b[0;32m    133\u001b[0m \u001b[39melse\u001b[39;00m:\n\u001b[0;32m    134\u001b[0m     \u001b[39m# Composite any adjacent images together\u001b[39;00m\n\u001b[0;32m    135\u001b[0m     image_group \u001b[39m=\u001b[39m []\n",
      "File \u001b[1;32mc:\\Users\\shrav\\anaconda3\\lib\\site-packages\\matplotlib\\artist.py:50\u001b[0m, in \u001b[0;36mallow_rasterization.<locals>.draw_wrapper\u001b[1;34m(artist, renderer)\u001b[0m\n\u001b[0;32m     47\u001b[0m     \u001b[39mif\u001b[39;00m artist\u001b[39m.\u001b[39mget_agg_filter() \u001b[39mis\u001b[39;00m \u001b[39mnot\u001b[39;00m \u001b[39mNone\u001b[39;00m:\n\u001b[0;32m     48\u001b[0m         renderer\u001b[39m.\u001b[39mstart_filter()\n\u001b[1;32m---> 50\u001b[0m     \u001b[39mreturn\u001b[39;00m draw(artist, renderer)\n\u001b[0;32m     51\u001b[0m \u001b[39mfinally\u001b[39;00m:\n\u001b[0;32m     52\u001b[0m     \u001b[39mif\u001b[39;00m artist\u001b[39m.\u001b[39mget_agg_filter() \u001b[39mis\u001b[39;00m \u001b[39mnot\u001b[39;00m \u001b[39mNone\u001b[39;00m:\n",
      "File \u001b[1;32mc:\\Users\\shrav\\anaconda3\\lib\\site-packages\\mpl_toolkits\\mplot3d\\axes3d.py:467\u001b[0m, in \u001b[0;36mAxes3D.draw\u001b[1;34m(self, renderer)\u001b[0m\n\u001b[0;32m    464\u001b[0m \u001b[39mif\u001b[39;00m \u001b[39mself\u001b[39m\u001b[39m.\u001b[39m_axis3don:\n\u001b[0;32m    465\u001b[0m     \u001b[39m# Draw panes first\u001b[39;00m\n\u001b[0;32m    466\u001b[0m     \u001b[39mfor\u001b[39;00m axis \u001b[39min\u001b[39;00m \u001b[39mself\u001b[39m\u001b[39m.\u001b[39m_get_axis_list():\n\u001b[1;32m--> 467\u001b[0m         axis\u001b[39m.\u001b[39;49mdraw_pane(renderer)\n\u001b[0;32m    468\u001b[0m     \u001b[39m# Then axes\u001b[39;00m\n\u001b[0;32m    469\u001b[0m     \u001b[39mfor\u001b[39;00m axis \u001b[39min\u001b[39;00m \u001b[39mself\u001b[39m\u001b[39m.\u001b[39m_get_axis_list():\n",
      "File \u001b[1;32mc:\\Users\\shrav\\anaconda3\\lib\\site-packages\\mpl_toolkits\\mplot3d\\axis3d.py:260\u001b[0m, in \u001b[0;36mAxis.draw_pane\u001b[1;34m(self, renderer)\u001b[0m\n\u001b[0;32m    258\u001b[0m     plane \u001b[39m=\u001b[39m \u001b[39mself\u001b[39m\u001b[39m.\u001b[39m_PLANES[\u001b[39m2\u001b[39m \u001b[39m*\u001b[39m index \u001b[39m+\u001b[39m \u001b[39m1\u001b[39m]\n\u001b[0;32m    259\u001b[0m xys \u001b[39m=\u001b[39m [tc[p] \u001b[39mfor\u001b[39;00m p \u001b[39min\u001b[39;00m plane]\n\u001b[1;32m--> 260\u001b[0m \u001b[39mself\u001b[39;49m\u001b[39m.\u001b[39;49mset_pane_pos(xys)\n\u001b[0;32m    261\u001b[0m \u001b[39mself\u001b[39m\u001b[39m.\u001b[39mpane\u001b[39m.\u001b[39mdraw(renderer)\n\u001b[0;32m    263\u001b[0m renderer\u001b[39m.\u001b[39mclose_group(\u001b[39m'\u001b[39m\u001b[39mpane3d\u001b[39m\u001b[39m'\u001b[39m)\n",
      "File \u001b[1;32mc:\\Users\\shrav\\anaconda3\\lib\\site-packages\\mpl_toolkits\\mplot3d\\axis3d.py:153\u001b[0m, in \u001b[0;36mAxis.set_pane_pos\u001b[1;34m(self, xys)\u001b[0m\n\u001b[0;32m    152\u001b[0m \u001b[39mdef\u001b[39;00m \u001b[39mset_pane_pos\u001b[39m(\u001b[39mself\u001b[39m, xys):\n\u001b[1;32m--> 153\u001b[0m     xys \u001b[39m=\u001b[39m np\u001b[39m.\u001b[39;49masarray(xys)\n\u001b[0;32m    154\u001b[0m     xys \u001b[39m=\u001b[39m xys[:, :\u001b[39m2\u001b[39m]\n\u001b[0;32m    155\u001b[0m     \u001b[39mself\u001b[39m\u001b[39m.\u001b[39mpane\u001b[39m.\u001b[39mxy \u001b[39m=\u001b[39m xys\n",
      "\u001b[1;31mKeyboardInterrupt\u001b[0m: "
     ]
    }
   ],
   "source": [
    "animate_quad(0.1, states).save('./anim.gif', writer='pillow', fps=100)\n",
    "Image(url='./anim.gif')"
   ]
  },
  {
   "cell_type": "markdown",
   "metadata": {},
   "source": [
    "## Running the Quadrotor\n",
    "\n",
    "### Setup\n",
    "\n",
    "Now that you have a set of LQR gains you are happy with trying out, it's time to put them on the quadrotor. First, you need to flash the quadrotor with our modified version of the Crazyflie's firmware. Our modifications apply the LQR control law in real time --- i.e. much faster than we could do with Python over the radio.\n",
    "\n",
    "**You only need to do this successfully once AND if you have a new drone.** If you have a pre-built drone, the drone has the correct firmware on it already. First, power the drone off. Then, hold the power switch down for about 3 seconds until the blue LED flashes, then release. After releasing, two blue LEDs should be flashing.  Then, open up your terminal and enter the following commands:\n",
    "\n",
    "```\n",
    "cd firmware-precompiled\n",
    "python3 -m cfloader flash cf2.bin stm32-fw\n",
    "```\n",
    "\n",
    "(**Note**: You should make sure that there are no other drones powered on in the vicinity of your drone. Otherwise the firmware update is likely to fail due to interference from other drones.)\n",
    "\n",
    "Once this is completed, your Crazyflie should restart and play a jingle. If all the lights are on, not flashing, and no jingle plays, repeat the flashing process.\n",
    "\n",
    "### Flying\n",
    "\n",
    "To test out the quadrotor, simply run the cells below after placing it in the netted area. The drone will take off and land using the Crazyflie's own PID controller, but your LQR controller will stabilize the drone once it is hover a half meter off the ground. The drone beeps when switching controllers.\n",
    "\n",
    "If you seen an error about something missing in the Log TOC (e.g. `stabilizer.controller not in param TOC`), this most likely means your computer lost connection with the drone midflight. (**Warning**: When you are testing your LQR controller, it can cause intereference with other drones' LQR controller. The LQR only runs for 5 seconds, so we recommend staggering the use of the following cell with other groups that are in same drone testing area to avoid interference issues.)\n",
    "\n",
    "### Submission\n",
    "\n",
    "You must submit the following to confirm that you got the drone to hover successfully:\n",
    "- A video of your drone hovering\n",
    "- The file `quad_data/quad_traj.npz`\n",
    "- This notebook file\n",
    "\n",
    "Please submit a zip file containing these to Gradescope, **HW2: Coding**.\n",
    "\n",
    "You will be graded according to the data in `quad_data/quad_traj.npz`, which is plotted below. The rubric is the following:\n",
    "- If tracking error in x and y each below 75 cm: 10 points\n",
    "- If tracking error in x and y each below 50 cm: 20 points\n",
    "- If tracking error in x and y each below 25 cm: 30 points"
   ]
  },
  {
   "cell_type": "markdown",
   "metadata": {},
   "source": [
    "When you are ready to test on the Crazyflie, set your gains in the next cell, then run the following cell."
   ]
  },
  {
   "cell_type": "code",
   "execution_count": null,
   "metadata": {},
   "outputs": [],
   "source": [
    "# SET GAINS HERE\n",
    "quad = CrazyflieLQR(Q, R, np.zeros(3)) # TO START, COPY AND PASTE YOUR COST MATRICES Q AND R FROM ABOVE"
   ]
  },
  {
   "cell_type": "code",
   "execution_count": null,
   "metadata": {},
   "outputs": [],
   "source": [
    "import logging\n",
    "import random\n",
    "import time\n",
    "import numpy as np\n",
    "\n",
    "import cflib.crtp\n",
    "from cflib.crazyflie import Crazyflie\n",
    "from cflib.crazyflie.syncCrazyflie import SyncCrazyflie\n",
    "from cflib.crazyflie.log import LogConfig\n",
    "from cflib.crazyflie.syncLogger import SyncLogger\n",
    "\n",
    "URI = f'radio://0/{group_number}/2M'\n",
    "\n",
    "# Only output errors from the logging framework\n",
    "logging.basicConfig(level=logging.ERROR)\n",
    "\n",
    "log_keys = ['e_x',\n",
    "            'e_y',\n",
    "            'e_roll',\n",
    "            'e_pitch',\n",
    "            'u2_pwm',\n",
    "            'u3_pwm',]\n",
    "\n",
    "other_log_keys = []\n",
    "\n",
    "if __name__ == '__main__':\n",
    "    cflib.crtp.init_drivers(enable_debug_driver=False)\n",
    "\n",
    "    with SyncCrazyflie(URI, cf=Crazyflie(rw_cache='./cache')) as scf:\n",
    "        cf = scf.cf\n",
    "\n",
    "        lg_stab = LogConfig(name='LQR', period_in_ms=10)\n",
    "        lg_data = {}\n",
    "\n",
    "        for key in log_keys:\n",
    "            lg_stab.add_variable('ctrlLQR.' + key, 'float')\n",
    "            lg_data[key] = []\n",
    "\n",
    "        for key in other_log_keys:\n",
    "            lg_stab.add_variable( key, 'float')\n",
    "            lg_data[key.split('.')[1]] = []\n",
    "\n",
    "        for i in range(4):\n",
    "            for j in range(12):\n",
    "                cf.param.set_value(f'ctrlLQR.k{i + 1}{j + 1}', '{:.10f}'.format(quad.K[i, j]))\n",
    "\n",
    "        print('Loaded LQR gain matrix.')\n",
    "        print('Initializing as PID')\n",
    "        cf.param.set_value('stabilizer.controller', '1')\n",
    "\n",
    "        cf.param.set_value('kalman.resetEstimation', '1')\n",
    "        time.sleep(0.1)\n",
    "        cf.param.set_value('kalman.resetEstimation', '0')\n",
    "        time.sleep(2)\n",
    "\n",
    "        print('Reset Kalman filter.')\n",
    "        print('Taking off!')\n",
    "\n",
    "        for y in range(10):\n",
    "            cf.commander.send_hover_setpoint(0, 0, 0, y / 25)\n",
    "            #cf.commander.send_stop_setpoint()\n",
    "            time.sleep(0.1)\n",
    "\n",
    "        for _ in range(50):\n",
    "            cf.commander.send_hover_setpoint(0, 0, 0, 0.5)\n",
    "            #cf.commander.send_stop_setpoint()\n",
    "            time.sleep(0.1)\n",
    "\n",
    "        print('Switching to LQR!')\n",
    "        cf.param.set_value('stabilizer.controller', '3')\n",
    "\n",
    "        with SyncLogger(scf, lg_stab) as logger:\n",
    "            t_start = time.time()\n",
    "            entry_count = 0\n",
    "\n",
    "            for log_entry in logger:\n",
    "                cf.commander.send_hover_setpoint(0, 0, 0, 0.5)\n",
    "                for key, value in log_entry[1].items():\n",
    "                    lg_data[key.split('.')[1]].append(value)\n",
    "\n",
    "                entry_count += 1\n",
    "\n",
    "                if time.time() - t_start > 5:\n",
    "                    break\n",
    "\n",
    "        print('Saving data...')\n",
    "        for key in lg_data.keys():\n",
    "            lg_data[key] = np.array(lg_data[key])\n",
    "\n",
    "        np.savez('quad_data/quad_traj', **lg_data)\n",
    "\n",
    "        print('Switching to PID!')\n",
    "        cf.param.set_value('stabilizer.controller', '1')\n",
    "\n",
    "        for _ in range(60):\n",
    "            cf.commander.send_hover_setpoint(0, 0, 0, 0.5)\n",
    "            time.sleep(0.1)\n",
    "\n",
    "        for y in range(10):\n",
    "            cf.commander.send_hover_setpoint(0, 0, 0, (10 - y) / 25)\n",
    "            time.sleep(0.1)\n",
    "\n",
    "        for i in range(10):\n",
    "            cf.commander.send_stop_setpoint()\n",
    "            time.sleep(0.1)\n",
    "\n",
    "print('Done!') "
   ]
  },
  {
   "cell_type": "markdown",
   "metadata": {},
   "source": [
    "Finally, this cell plots the result of your physical experiments, i.e. the data logged by the most recent run of `run_lab1.py` in `quad_data/quad_traj.npz`. If you run it before flying the quadrotor, it will error since there is currently no flight data present. The output of the next cell _must_ be included in the notebook when you submit."
   ]
  },
  {
   "cell_type": "code",
   "execution_count": null,
   "metadata": {
    "scrolled": true
   },
   "outputs": [],
   "source": [
    "import os\n",
    "\n",
    "if os.path.isfile('quad_data/quad_traj.npz'):\n",
    "    npzfile = np.load('quad_data/quad_traj.npz')\n",
    "\n",
    "    plt.rcParams[\"figure.figsize\"] = (16,8)\n",
    "    fig = plt.figure()\n",
    "\n",
    "    ax = fig.add_subplot(311, title='Position')\n",
    "    ax.plot(npzfile['e_x'][:125], label='x')\n",
    "    ax.plot(npzfile['e_y'][:125], label='y')\n",
    "    ax.legend()\n",
    "\n",
    "    ax = fig.add_subplot(312, title='Angles')\n",
    "    ax.plot(npzfile['e_roll'][:125], label='phi')\n",
    "    ax.plot(npzfile['e_pitch'][:125], label='theta')\n",
    "    ax.legend()\n",
    "\n",
    "    ax = fig.add_subplot(313, title='Moments')\n",
    "    ax.plot(npzfile['u2_pwm'][:125] / (2 ** 15), label='M1')\n",
    "    ax.plot(npzfile['u3_pwm'][:125] / (2 ** 15), label='M2')\n",
    "    ax.legend()\n",
    "else:\n",
    "    print('No flight data found.')"
   ]
  }
 ],
 "metadata": {
  "kernelspec": {
   "display_name": "Python 3.9.12 ('base')",
   "language": "python",
   "name": "python3"
  },
  "language_info": {
   "codemirror_mode": {
    "name": "ipython",
    "version": 3
   },
   "file_extension": ".py",
   "mimetype": "text/x-python",
   "name": "python",
   "nbconvert_exporter": "python",
   "pygments_lexer": "ipython3",
   "version": "3.9.12"
  },
  "vscode": {
   "interpreter": {
    "hash": "6cf90320e821465feb7ff84205bd5f9a899e5b815829384b2cf329c75cd5ee5a"
   }
  }
 },
 "nbformat": 4,
 "nbformat_minor": 2
}
