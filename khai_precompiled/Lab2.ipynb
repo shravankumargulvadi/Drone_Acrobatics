{
 "cells": [
  {
   "cell_type": "markdown",
   "metadata": {},
   "source": [
    "# Part I: Testing out the Crazyflie (15 Pts)\n",
    "\n",
    "We will first assemble and configure the Crazyflie and run a simple test script to make sure everything is functioning before doing the lab.\n",
    "\n",
    "**If you received an unbuilt drone kit**: First, assemble your Crazyflie. Instructions are located [here](https://www.bitcraze.io/documentation/tutorials/getting-started-with-crazyflie-2-x/). **There is one caveat you should be aware of, however.** Instead of using the short connector pins, you need to use the longer set. This is because we are using the FlowDeck expansion deck, which will provide us with significantly more accurate state measurements. There are instructions for mounting expansion decks on the Crazyflie [here](https://www.bitcraze.io/documentation/tutorials/getting-started-with-expansion-decks/). We suggest you push the pins down until they appear on the other side of the flow deck to ensure a secure connection (the pins can be slid further through the black plastic on the connector but it may take some physical effort). Next, we need to install a few things so that you can set the radio channel your crazyflie uses. \n",
    "\n",
    "**If you received a pre-built drone**: Please carefully read the instructions for building the drone [here](https://www.bitcraze.io/documentation/tutorials/getting-started-with-crazyflie-2-x/). Even though you have a pre-built drone, the instructions contain a lot of useful information about working with the drone (e.g., the correct configuration of propellers, how to attach the battery, how to switch the drone on/off, the meaning of different LED patterns, etc.).   \n",
    "\n",
    "Ensure that you have activated the mae345 conda environment. Then, follow the instructions for your operating system below. Note: Using a Mac (without the M1 chips) is probably the easiest option of the options. For this lab, prioritize setting up at least one person in your group with the software for running the Crazyflie. If you are able to get multiple laptops setup, that's great (but not critical at this stage in the course!). \n",
    "\n",
    "**Linux**\n",
    "\n",
    "`pip install cflib libusb cfclient`\n",
    "\n",
    "Linux only: Update the UDEV rules to recognize the Crazyflie Radio by following the instructions at the end of this [page](https://github.com/bitcraze/crazyflie-lib-python/blob/master/docs/installation/install.md). After completing them, you may need to reboot your computer.\n",
    "\n",
    "**Windows**\n",
    "\n",
    "Follow all installation instructions [here](https://github.com/bitcraze/crazyradio-firmware/blob/master/docs/building/usbwindows.md). You should repeat the driver installation twice: first with the Crazyflie connected by USB, then again with the radio receiver connected.\n",
    "\n",
    "`pip install cflib libusb cfclient`\n",
    "\n",
    "**Mac (without the Apple M1 chip)**\n",
    "\n",
    "These instructions are for Macs with Intel chips (i.e., before Apple moved to the M1 chip). See below for instructions for newer Macs with the M1 chip. If you are unsure what kind of chip your Mac has, click on the Apple logo on the top left of your desktop, click on \"About this Mac\" and see what kind of chip is listed (Intel or M1). \n",
    "\n",
    "Now, make sure you have the `brew` package manager installed. You can check if it is already installed by running `brew help` in your terminal. If you see some output, then continue to the next step. If brew is not installed, install it using the terminal command [here](https://brew.sh/).  \n",
    "\n",
    "Next, in your terminal, run:\n",
    "\n",
    "`brew install libusb`\n",
    "\n",
    "Then, run the following (make sure that you are running this from the mae345 conda environment):\n",
    "\n",
    "`pip install cflib libusb cfclient`\n",
    "\n",
    "**Mac (with the Apple M1 chip)**\n",
    "\n",
    "These instructions are for newer Macs that use the Apple M1 chip. We will first need to install a version of the `brew` package manager that is capable of installing software designed for Intel chips. \n",
    "\n",
    "In your terminal, run the following commands:\n",
    "\n",
    "`cd ~/Downloads\n",
    "mkdir homebrew\n",
    "curl -L https://github.com/Homebrew/brew/tarball/master | tar xz --strip 1 -C homebrew`\n",
    "\n",
    "This creates a directory called `homebrew` in your Downloads folder and downloads homebrew. Now run the following:\n",
    "\n",
    "`sudo mv homebrew /usr/local/homebrew`\n",
    "\n",
    "Open up the ~/.zshrc file by running:\n",
    "\n",
    "`open ~/.zshrc`\n",
    "\n",
    "Then add the following to the end of that file:\n",
    "\n",
    "`export PATH=$HOME/bin:/usr/local/bin:$PATH\n",
    "export PATH=$HOME/bin:/usr/local/bin:$PATH\n",
    "alias axbrew='arch -x86_64 /usr/local/homebrew/bin/brew'\n",
    "`\n",
    "\n",
    "Save the file, close it, and then restart the terminal (you will have to activate the mae345 conda environment again). Now we can use the command `axbrew` to install software designed for Intel chips. \n",
    "\n",
    "Run the following:\n",
    "\n",
    "`axbrew install libusb`\n",
    "\n",
    "Finally, run the following (make sure you're running this from the conda environment):\n",
    "\n",
    "`pip install cfclient`\n",
    "\n",
    "\n",
    "**After installing these packages:** Run `cfclient` in terminal (Mac) or Anaconda Prompt (Windows). For Linux, run the command `python -m cfclient.gui` in terminal and make sure your drone is on. If you receive an error regarding `pysdl2`, install the required packages as described [here](https://github.com/bitcraze/crazyflie-clients-python/issues/592) based on your operating system (`pip install pysdl2 pysdl2-dll`). \n",
    "\n",
    "The `cfclient` software is a GUI for interacting with the Crazyflie. Connect the Crazyflie to your computer by USB and turn it on. Then, hit `Scan` in the upper left of the window and from the drop down menu pick `usb://0` and hit `Connect`. This uses the USB interface to connect to the drone. In the console tab (hit `View -> Tabs -> Console` if it isn't present), you should see `Crazyflie 2.1 is up and running!` followed by other information. \n",
    "\n",
    "The last thing we have to do is set the radio channel the Crazyflie will operate on and will prevent other groups from sending commands to your drone (or your commands to their drone). Hit `Connect -> Configure 2.X`. Set the radio channel option in the dialog box that appears to **Ch.\\<your group number\\>**. Also make sure that the radio bandwith is 2 MBit/s (if it's set to something else, change it to 2 MBit/s). Hit `Write` (if you don't, this won't be saved). Now, change the value of the variable in the cell below to your group number."
   ]
  },
  {
   "cell_type": "code",
   "execution_count": 3,
   "metadata": {},
   "outputs": [],
   "source": [
    "group_number = 80"
   ]
  },
  {
   "cell_type": "markdown",
   "metadata": {},
   "source": [
    "Next, disconnect the Crazyflie from the USB and plug in the CrazyRadio, hit the `Disconnect` button and `Scan` again. You should see an address that looks something like `radio://0/<group_number>/2M`. You don't need to connect to it again, and, in fact, you can't command the drone via Python while it's connected to the GUI. However, you should confirm the address exists.\n",
    "\n",
    "To check that everything is working properly, run the following cell. It will print a bunch of logging information (specifically the roll, pitch, and yaw of the drone).\n",
    "\n",
    "Some tips for working with the Crazyflie:\n",
    "- The connection with the drone is not always the most stable. Sometimes, a glitch occurs and you may need to restart the drone and / or Jupyter. To restart Jupyter, open the terminal where you ran `jupyter notebook` and hit `Ctrl + C` followed by `y` and `ENTER`.\n",
    "- Sometimes the drone gets a poor initialization before flying. If it crashes before stabilizing at the hover point, it is unlikely your code is wrong. You may need to just run it again. It helps to plug in the battery/powering the drone on when it is flat on a surface.\n",
    "- **Turn the quadrotor on when it is plugged in to charge it!** It will not charge when it is powered off so that the onboard processor can monitor the battery and prevent it from overcharging.\n",
    "- See [this page](https://github.com/Princeton-Introduction-to-Robotics/F2022/blob/main/crazyflie-tips.md) for a compilation of useful tips. "
   ]
  },
  {
   "cell_type": "code",
   "execution_count": null,
   "metadata": {},
   "outputs": [],
   "source": [
    "# This is an example from the Crazyflie Python API.\n",
    "# See https://github.com/bitcraze/crazyflie-lib-python/blob/master/examples/basiclogSync.py\n",
    "\n",
    "import logging\n",
    "import time\n",
    "\n",
    "import cflib.crtp\n",
    "from cflib.crazyflie import Crazyflie\n",
    "from cflib.crazyflie.log import LogConfig\n",
    "from cflib.crazyflie.syncCrazyflie import SyncCrazyflie\n",
    "from cflib.crazyflie.syncLogger import SyncLogger\n",
    "\n",
    "# Only output errors from the logging framework\n",
    "logging.basicConfig(level=logging.ERROR)\n",
    "\n",
    "\n",
    "# Initialize the low-level drivers (don't list the debug drivers)\n",
    "cflib.crtp.init_drivers(enable_debug_driver=False)\n",
    "# Scan for Crazyflies and use the first one found\n",
    "print('Scanning interfaces for Crazyflies...')\n",
    "available = cflib.crtp.scan_interfaces()\n",
    "print('Crazyflies found:')\n",
    "for i in available:\n",
    "    print(i[0])\n",
    "\n",
    "if len(available) == 0:\n",
    "    print('No Crazyflies found, cannot run example')\n",
    "else:\n",
    "    lg_stab = LogConfig(name='Stabilizer', period_in_ms=10)\n",
    "    lg_stab.add_variable('stabilizer.roll', 'float')\n",
    "    lg_stab.add_variable('stabilizer.pitch', 'float')\n",
    "    lg_stab.add_variable('stabilizer.yaw', 'float')\n",
    "\n",
    "    cf = Crazyflie(rw_cache='./cache')\n",
    "    with SyncCrazyflie(available[0][0], cf=cf) as scf:\n",
    "        with SyncLogger(scf, lg_stab) as logger:\n",
    "            endTime = time.time() + 10\n",
    "\n",
    "            for log_entry in logger:\n",
    "                timestamp = log_entry[0]\n",
    "                data = log_entry[1]\n",
    "                logconf_name = log_entry[2]\n",
    "\n",
    "                print('[%d][%s]: %s' % (timestamp, logconf_name, data))\n",
    "\n",
    "                if time.time() > endTime:\n",
    "                    break\n"
   ]
  },
  {
   "cell_type": "markdown",
   "metadata": {},
   "source": [
    "# Part II: LQR Control of a Quadrotor\n",
    "\n",
    "In this part, we are going to use a hover state linearization of the quadrotor, like you wrote in the previous lab to allow the quadrotor to hover. First, we are going to import the various classes and functions we need."
   ]
  },
  {
   "cell_type": "code",
   "execution_count": 5,
   "metadata": {},
   "outputs": [],
   "source": [
    "from quad_utils import plotting, Crazyflie as CF, animate_quad\n",
    "import matplotlib.pyplot as plt\n",
    "import numpy as np\n",
    "from scipy.linalg import solve_continuous_are\n",
    "from IPython.display import HTML, Image"
   ]
  },
  {
   "cell_type": "markdown",
   "metadata": {},
   "source": [
    "## Problem 1 (20 Pts)\n",
    "\n",
    "Now, in the cell below, you will fillout the function that will actually solve the LQR problem. That is, given the matrices $\\mathbf{A}, \\mathbf{B}, \\mathbf{Q}, \\mathbf{R}$, you should compute the $K$ that minimizes the LQR cost function. You are encouraged to use the function `scipy.linalg.solve_continuous_are` to solve the CARE. Also, we use the convention that the stabilizing control input is given by $\\mathbf{u} = \\mathbf{K}\\mathbf{x}$ (as opposed to $\\mathbf{u} = -\\mathbf{K}\\mathbf{x}$)."
   ]
  },
  {
   "cell_type": "code",
   "execution_count": 35,
   "metadata": {},
   "outputs": [],
   "source": [
    "def lqr(A: np.ndarray, B: np.ndarray, Q: np.ndarray, R: np.ndarray) -> np.ndarray:\n",
    "    P = solve_continuous_are(A, B, Q, R)\n",
    "    K = np.linalg.solve(R, B.T @ P)\n",
    "    return -K"
   ]
  },
  {
   "cell_type": "markdown",
   "metadata": {},
   "source": [
    "## Problem 2 (30 Pts)\n",
    "\n",
    "Finally, you will use all the code you have written thus far to actually stabilize your Crazyflie. The following code implements a version of the Crazyflie class from our `quad_utils` library that uses the linearization and LQR functions you just wrote. This class is useful as it provides simulation and animation functionality to verify your controller is working. It also saves out $\\mathbf{K}$ so it can be loaded onto the actual quadrotor for control. You will need to adjust the gains yourself, but we filled in a few for you to get started."
   ]
  },
  {
   "cell_type": "markdown",
   "metadata": {},
   "source": [
    "### LQR Simulation\n",
    "\n",
    "The code for this problem is broken into two sections: designing the LQR controller and running the Crazyflie. \n",
    "\n",
    "The following cell uses the `lqr` function you just wrote in conjunction with our implementation of the linearization function from the previous lab (here as `self.hover_state_linearization()`) to create an instance of the `CrazyflieLQR` class. The details of this process are not important, but this class provides a lot of functionality for designing the LQR controller. It also saves the $\\mathbf{K}$ matrix out as `quad_data/lqr_gains.npy`. Run this block to set your gains."
   ]
  },
  {
   "cell_type": "code",
   "execution_count": 96,
   "metadata": {},
   "outputs": [
    {
     "name": "stdout",
     "output_type": "stream",
     "text": [
      "Using K matrix:\n",
      "\n",
      "[[-1.37137336e-14 -0.00000000e+00 -6.32455532e-01 -0.00000000e+00\n",
      "  -1.08381873e-13 -0.00000000e+00 -1.15461238e-16 -0.00000000e+00\n",
      "  -6.14774212e-01 -0.00000000e+00 -1.36041526e-13 -0.00000000e+00]\n",
      " [-0.00000000e+00 -8.16496581e-04 -0.00000000e+00 -3.60054666e-03\n",
      "  -0.00000000e+00 -3.08926939e-20 -0.00000000e+00 -1.08010777e-03\n",
      "  -0.00000000e+00 -6.07354085e-04 -0.00000000e+00 -2.46357518e-20]\n",
      " [ 8.16496581e-04 -0.00000000e+00 -9.77511154e-15 -0.00000000e+00\n",
      "  -3.59855983e-03 -0.00000000e+00  1.07995450e-03 -0.00000000e+00\n",
      "  -4.82793406e-16 -0.00000000e+00 -6.06685162e-04 -0.00000000e+00]\n",
      " [-0.00000000e+00 -6.68689885e-14 -0.00000000e+00 -2.79028385e-13\n",
      "  -0.00000000e+00 -1.41421356e-02 -0.00000000e+00 -8.69529780e-14\n",
      "  -0.00000000e+00 -7.05450108e-15 -0.00000000e+00 -1.00419720e-02]]\n"
     ]
    }
   ],
   "source": [
    "class CrazyflieLQR(CF):\n",
    "    def __init__(self, Q: np.ndarray, R: np.ndarray, hover_pos: np.ndarray):\n",
    "        super().__init__()\n",
    "        self._hover_pos = hover_pos\n",
    "        self._hover_state = np.concatenate([self._hover_pos, np.zeros(9)])\n",
    "        A, B =  self.hover_state_linearization()\n",
    "        self._K = lqr(A, B, Q, R)\n",
    "        \n",
    "        print('Using K matrix:')\n",
    "        print()\n",
    "        print(self._K)\n",
    "        \n",
    "        np.save('quad_data/lqr_gains', self._K)\n",
    "        \n",
    "    @property\n",
    "    def K(self) -> np.ndarray:\n",
    "        return self._K\n",
    "    \n",
    "    def controller(self, state: np.ndarray, t: float) -> np.ndarray:\n",
    "        return self._K @ (state - self._hover_state) + np.array([self.mass * self.gravity, 0, 0, 0])\n",
    "\n",
    "# The first argument is the Q matrix, the second is the R matrix. You can disregard the third argument.\n",
    "quad = CrazyflieLQR(np.diag([2000, 2000, 2000, 1000, 1000, 1, 1700, 1700, 1700, 800, 800, 0.5]), \n",
    "0.5 * np.diag([1e4, 6e9, 6e9, 1e4]), np.zeros(3))\n",
    "# quad = CrazyflieLQR(np.diag([10000, 10000, 2000, 0.001, 0.001, 1, 120, 120, 1, 0.005, 0.005, 1]), 2 * np.diag([1e5, 6e9, 6e9, 1e4]), np.zeros(3))\n"
   ]
  },
  {
   "cell_type": "markdown",
   "metadata": {},
   "source": [
    "This next cell simulates the quadrotor flying with a random initial condition for five seconds and plots some of the states. You should see the system stabilize for most choices of the random initial conditions, or your gains will almost certainly not work on the real Crazyflie. Feel free to change the plotted variables."
   ]
  },
  {
   "cell_type": "code",
   "execution_count": 95,
   "metadata": {},
   "outputs": [
    {
     "name": "stdout",
     "output_type": "stream",
     "text": [
      "OK\n"
     ]
    },
    {
     "data": {
      "text/plain": [
       "<matplotlib.legend.Legend at 0x7f4ef7ed5a60>"
      ]
     },
     "execution_count": 95,
     "metadata": {},
     "output_type": "execute_result"
    },
    {
     "data": {
      "image/png": "[encoded data removed]",
      "text/plain": [
       "<Figure size 1600x800 with 2 Axes>"
      ]
     },
     "metadata": {},
     "output_type": "display_data"
    }
   ],
   "source": [
    "# Uncomment the following line if you want to use the same random initial condition.\n",
    "# np.random.seed(0)\n",
    "\n",
    "ic = np.random.rand(12) * 1.2\n",
    "ic[0:3] = ic[0:3] / 5\n",
    "ic[6:9] = ic[6:9] / 5\n",
    "\n",
    "times, states, inputs = quad.simulate(ic, 5, 0.01, clip_input=True)\n",
    "print(\"OK\")\n",
    "#%matplotlib notebook\n",
    "plt.rcParams[\"figure.figsize\"] = (16,8)\n",
    "fig = plt.figure()\n",
    "\n",
    "ax = fig.add_subplot(121, title='Position')\n",
    "ax.plot(times, states[0, :], label='x')\n",
    "ax.plot(times, states[1, :], label='y')\n",
    "ax.plot(times, states[2, :], label='z')\n",
    "ax.legend()\n",
    "\n",
    "ax = fig.add_subplot(122, title='Angles')\n",
    "ax.plot(times, states[3, :], label='phi')\n",
    "ax.plot(times, states[4, :], label='theta')\n",
    "ax.plot(times, states[5, :], label='psi')\n",
    "ax.legend()"
   ]
  },
  {
   "cell_type": "markdown",
   "metadata": {},
   "source": [
    "This cell optionally animates the simulation data computed and plotted in the previous cell."
   ]
  },
  {
   "cell_type": "markdown",
   "metadata": {},
   "source": [
    "## Running the Quadrotor\n",
    "\n",
    "### Setup\n",
    "\n",
    "Now that you have a set of LQR gains you are happy with trying out, it's time to put them on the quadrotor. First, you need to flash the quadrotor with our modified version of the Crazyflie's firmware. Our modifications apply the LQR control law in real time --- i.e. much faster than we could do with Python over the radio.\n",
    "\n",
    "**You only need to do this successfully once AND if you have a new drone.** If you have a pre-built drone, the drone has the correct firmware on it already. First, power the drone off. Then, hold the power switch down for about 3 seconds until the blue LED flashes, then release. After releasing, two blue LEDs should be flashing.  Then, open up your terminal and enter the following commands:\n",
    "\n",
    "```\n",
    "cd firmware-precompiled\n",
    "python3 -m cfloader flash cf2.bin stm32-fw\n",
    "```\n",
    "\n",
    "(**Note**: You should make sure that there are no other drones powered on in the vicinity of your drone. Otherwise the firmware update is likely to fail due to interference from other drones.)\n",
    "\n",
    "Once this is completed, your Crazyflie should restart and play a jingle. If all the lights are on, not flashing, and no jingle plays, repeat the flashing process.\n",
    "\n",
    "### Flying\n",
    "\n",
    "To test out the quadrotor, simply run the cells below after placing it in the netted area. The drone will take off and land using the Crazyflie's own PID controller, but your LQR controller will stabilize the drone once it is hover a half meter off the ground. The drone beeps when switching controllers.\n",
    "\n",
    "If you seen an error about something missing in the Log TOC (e.g. `stabilizer.controller not in param TOC`), this most likely means your computer lost connection with the drone midflight. (**Warning**: When you are testing your LQR controller, it can cause intereference with other drones' LQR controller. The LQR only runs for 5 seconds, so we recommend staggering the use of the following cell with other groups that are in same drone testing area to avoid interference issues.)\n",
    "\n",
    "### Submission\n",
    "\n",
    "You must submit the following to confirm that you got the drone to hover successfully:\n",
    "- A video of your drone hovering\n",
    "- The file `quad_data/quad_traj.npz`\n",
    "- This notebook file\n",
    "\n",
    "Please submit a zip file containing these to Gradescope, **HW2: Coding**.\n",
    "\n",
    "You will be graded according to the data in `quad_data/quad_traj.npz`, which is plotted below. The rubric is the following:\n",
    "- If tracking error in x and y each below 75 cm: 10 points\n",
    "- If tracking error in x and y each below 50 cm: 20 points\n",
    "- If tracking error in x and y each below 25 cm: 30 points"
   ]
  },
  {
   "cell_type": "markdown",
   "metadata": {},
   "source": [
    "When you are ready to test on the Crazyflie, set your gains in the next cell, then run the following cell."
   ]
  },
  {
   "cell_type": "code",
   "execution_count": 105,
   "metadata": {},
   "outputs": [
    {
     "name": "stdout",
     "output_type": "stream",
     "text": [
      "Using K matrix:\n",
      "\n",
      "[[-2.63724863e-14 -0.00000000e+00 -4.47213595e-01 -0.00000000e+00\n",
      "  -1.10502635e-13 -0.00000000e+00 -6.43523136e-15 -0.00000000e+00\n",
      "  -3.56135951e-01 -0.00000000e+00 -1.26185859e-13 -0.00000000e+00]\n",
      " [-0.00000000e+00 -5.77350269e-04 -0.00000000e+00 -1.67368639e-03\n",
      "  -0.00000000e+00 -8.51168455e-20 -0.00000000e+00 -6.93208544e-04\n",
      "  -0.00000000e+00 -2.17992987e-04 -0.00000000e+00 -1.77496878e-20]\n",
      " [ 5.77350269e-04 -0.00000000e+00 -5.15832407e-15 -0.00000000e+00\n",
      "  -1.66902522e-03 -0.00000000e+00  6.92812295e-04 -0.00000000e+00\n",
      "  -4.47816946e-16 -0.00000000e+00 -2.16882747e-04 -0.00000000e+00]\n",
      " [-0.00000000e+00 -3.30862101e-14 -0.00000000e+00 -6.61140795e-14\n",
      "  -0.00000000e+00 -1.00000000e-02 -0.00000000e+00 -3.70587817e-14\n",
      "  -0.00000000e+00 -5.08266168e-15 -0.00000000e+00 -7.11300358e-03]]\n"
     ]
    }
   ],
   "source": [
    "# SET GAINS HERE\n",
    "# quad = CrazyflieLQR(Q, R, np.zeros(3)) # TO START, COPY AND PASTE YOUR COST MATRICES Q AND R FROM ABOVE\n",
    "quad = CrazyflieLQR(np.diag([2000, 2000, 2000, 0.001, 0.001, 1, 1700, 1700, 1000, 0.05, 0.05, 0.5]), 1 * np.diag([1e4, 6e9, 6e9, 1e4]), np.zeros(3))"
   ]
  },
  {
   "cell_type": "code",
   "execution_count": 106,
   "metadata": {},
   "outputs": [
    {
     "data": {
      "text/plain": [
       "array([[-2.63724863e-14, -0.00000000e+00, -4.47213595e-01,\n",
       "        -0.00000000e+00, -1.10502635e-13, -0.00000000e+00,\n",
       "        -6.43523136e-15, -0.00000000e+00, -3.56135951e-01,\n",
       "        -0.00000000e+00, -1.26185859e-13, -0.00000000e+00],\n",
       "       [-0.00000000e+00, -5.77350269e-04, -0.00000000e+00,\n",
       "        -1.67368639e-03, -0.00000000e+00, -8.51168455e-20,\n",
       "        -0.00000000e+00, -6.93208544e-04, -0.00000000e+00,\n",
       "        -2.17992987e-04, -0.00000000e+00, -1.77496878e-20],\n",
       "       [ 5.77350269e-04, -0.00000000e+00, -5.15832407e-15,\n",
       "        -0.00000000e+00, -1.66902522e-03, -0.00000000e+00,\n",
       "         6.92812295e-04, -0.00000000e+00, -4.47816946e-16,\n",
       "        -0.00000000e+00, -2.16882747e-04, -0.00000000e+00],\n",
       "       [-0.00000000e+00, -3.30862101e-14, -0.00000000e+00,\n",
       "        -6.61140795e-14, -0.00000000e+00, -1.00000000e-02,\n",
       "        -0.00000000e+00, -3.70587817e-14, -0.00000000e+00,\n",
       "        -5.08266168e-15, -0.00000000e+00, -7.11300358e-03]])"
      ]
     },
     "execution_count": 106,
     "metadata": {},
     "output_type": "execute_result"
    }
   ],
   "source": [
    "quad.K"
   ]
  },
  {
   "cell_type": "code",
   "execution_count": 22,
   "metadata": {},
   "outputs": [],
   "source": [
    "KK = np.array([[0, 0, -6e-01,\n",
    "        0, 0, 0,\n",
    "        0, 0, -5e-01,\n",
    "        0, 0, 0],\n",
    "       [0, -8.0e-04, 0,\n",
    "        -4e-03, 0, 0,\n",
    "        0, -1.1e-03, 0,\n",
    "        -9.0e-04, 0, 0],\n",
    "       [ 8.0e-04, 0, 0,\n",
    "        0, -4e-03, 0,\n",
    "         1.1e-03, 0, 0,\n",
    "        0, -9.0e-04, 0],\n",
    "       [0, 0, 0,\n",
    "        0, 0, -1.4e-02,\n",
    "        0, 0, 0,\n",
    "        0, 0, -1.0e-02]])\n",
    "\n",
    "# KK = np.array([\n",
    "# [ 1.29467074e-15, -0.00000000e+00, -3.16227766e+00, -0.00000000e+00,\n",
    "#    4.31369031e-15, -0.00000000e+00, -4.30868786e-16, -0.00000000e+00,\n",
    "#   -1.47977588e+00, -0.00000000e+00, -5.35081604e-18, -0.00000000e+00],\n",
    "#  [-0.00000000e+00, -2.23606798e-01, -0.00000000e+00, -4.62521282e-01,\n",
    "#   -0.00000000e+00,  1.39719532e-18, -0.00000000e+00, -1.46992227e-01,\n",
    "#   -0.00000000e+00, -7.08034607e-02, -0.00000000e+00, -4.36478253e-20],\n",
    "#  [ 2.23606798e-01, -0.00000000e+00, -3.31521643e-15, -0.00000000e+00,\n",
    "#   -4.62519144e-01, -0.00000000e+00,  1.46991895e-01, -0.00000000e+00,\n",
    "#   -5.69680180e-17, -0.00000000e+00, -7.08027744e-02, -0.00000000e+00],\n",
    "#  [-0.00000000e+00, -1.02261397e-12, -0.00000000e+00, -2.11480583e-12,\n",
    "#   -0.00000000e+00, -3.16227766e-01, -0.00000000e+00, -6.83784627e-13,\n",
    "#   -0.00000000e+00, -4.16621655e-16, -0.00000000e+00, -3.19188010e-02]])"
   ]
  },
  {
   "cell_type": "code",
   "execution_count": 20,
   "metadata": {},
   "outputs": [
    {
     "name": "stdout",
     "output_type": "stream",
     "text": [
      "OK\n",
      "Loaded LQR gain matrix.\n",
      "Initializing as PID\n",
      "Reset Kalman filter.\n",
      "Taking off!\n",
      "Switching to LQR!\n",
      "Saving data...\n",
      "Switching to PID!\n",
      "Done!\n"
     ]
    }
   ],
   "source": [
    "import logging\n",
    "import random\n",
    "import time\n",
    "import numpy as np\n",
    "\n",
    "import cflib.crtp\n",
    "from cflib.crazyflie import Crazyflie\n",
    "from cflib.crazyflie.syncCrazyflie import SyncCrazyflie\n",
    "from cflib.crazyflie.log import LogConfig\n",
    "from cflib.crazyflie.syncLogger import SyncLogger\n",
    "\n",
    "URI = f'radio://0/80/2M'\n",
    "\n",
    "# Only output errors from the logging framework\n",
    "logging.basicConfig(level=logging.ERROR)\n",
    "\n",
    "log_keys = ['e_x',\n",
    "            'e_y',\n",
    "            'e_roll',\n",
    "            'e_pitch']\n",
    "\n",
    "other_log_keys = []\n",
    "\n",
    "if __name__ == '__main__':\n",
    "    cflib.crtp.init_drivers(enable_debug_driver=False)\n",
    "\n",
    "    with SyncCrazyflie(URI, cf=Crazyflie(rw_cache='./cache')) as scf:\n",
    "        cf = scf.cf\n",
    "\n",
    "        lg_stab = LogConfig(name='LQR', period_in_ms=10)\n",
    "        lg_data = {}\n",
    "        print('OK')\n",
    "        for key in log_keys:\n",
    "            lg_stab.add_variable('ctrlLQR.' + key, 'float')\n",
    "            lg_data[key] = []\n",
    "\n",
    "        for key in other_log_keys:\n",
    "            lg_stab.add_variable( key, 'float')\n",
    "            lg_data[key.split('.')[1]] = []\n",
    "\n",
    "        for i in range(4):\n",
    "            for j in range(12):\n",
    "                cf.param.set_value(f'ctrlLQR.k{i + 1}{j + 1}', '{:.10f}'.format(KK[i, j]))\n",
    "\n",
    "        print('Loaded LQR gain matrix.')\n",
    "        print('Initializing as PID')\n",
    "        cf.param.set_value('stabilizer.controller', '2')\n",
    "        # cf.param.set_value('stabilizer.tumbleCheckEn', '1')    # disable tumble check\n",
    "        cf.param.set_value('kalman.resetEstimation', '1')\n",
    "        time.sleep(0.1)\n",
    "        cf.param.set_value('kalman.resetEstimation', '0')\n",
    "        time.sleep(2)\n",
    "\n",
    "        print('Reset Kalman filter.')\n",
    "        print('Taking off!')\n",
    "        # cf.commander.send_setpoint(0, 0, 0, 1000)\n",
    "        for y in range(20):\n",
    "            cf.commander.send_hover_setpoint(0, 0, 0, y / 25)\n",
    "            #cf.commander.send_stop_setpoint()\n",
    "            time.sleep(0.1)\n",
    "\n",
    "        for _ in range(50):\n",
    "            cf.commander.send_hover_setpoint(0, 0, 0, 0.5)\n",
    "            #cf.commander.send_stop_setpoint()\n",
    "            time.sleep(0.1)\n",
    "\n",
    "        print('Switching to LQR!')\n",
    "        cf.param.set_value('stabilizer.controller', '2')\n",
    "\n",
    "        with SyncLogger(scf, lg_stab) as logger:\n",
    "            t_start = time.time()\n",
    "            entry_count = 0\n",
    "\n",
    "            for log_entry in logger:\n",
    "                cf.commander.send_hover_setpoint(0, 0, 0, 0.5)\n",
    "                for key, value in log_entry[1].items():\n",
    "                    lg_data[key.split('.')[1]].append(value)\n",
    "\n",
    "                entry_count += 1\n",
    "\n",
    "                if time.time() - t_start > 5:\n",
    "                    break\n",
    "\n",
    "        print('Saving data...')\n",
    "        for key in lg_data.keys():\n",
    "            lg_data[key] = np.array(lg_data[key])\n",
    "\n",
    "        np.savez('quad_data/quad_traj', **lg_data)\n",
    "\n",
    "        print('Switching to PID!')\n",
    "        cf.param.set_value('stabilizer.controller', '2')\n",
    "\n",
    "        # for _ in range(60):\n",
    "        #     cf.commander.send_hover_setpoint(0, 0, 0, 0.5)\n",
    "        #     time.sleep(0.1)\n",
    "\n",
    "        for y in range(10):\n",
    "            cf.commander.send_hover_setpoint(0, 0, 0, (10 - y) / 25)\n",
    "            time.sleep(0.1)\n",
    "\n",
    "        for i in range(10):\n",
    "            cf.commander.send_stop_setpoint()\n",
    "            time.sleep(0.1)\n",
    "\n",
    "print('Done!') "
   ]
  },
  {
   "cell_type": "markdown",
   "metadata": {},
   "source": [
    "Finally, this cell plots the result of your physical experiments, i.e. the data logged by the most recent run of `run_lab1.py` in `quad_data/quad_traj.npz`. If you run it before flying the quadrotor, it will error since there is currently no flight data present. The output of the next cell _must_ be included in the notebook when you submit."
   ]
  },
  {
   "cell_type": "code",
   "execution_count": 1,
   "metadata": {
    "scrolled": true
   },
   "outputs": [
    {
     "ename": "NameError",
     "evalue": "name 'np' is not defined",
     "output_type": "error",
     "traceback": [
      "\u001b[0;31m---------------------------------------------------------------------------\u001b[0m",
      "\u001b[0;31mNameError\u001b[0m                                 Traceback (most recent call last)",
      "Cell \u001b[0;32mIn [1], line 4\u001b[0m\n\u001b[1;32m      1\u001b[0m \u001b[38;5;28;01mimport\u001b[39;00m \u001b[38;5;21;01mos\u001b[39;00m\n\u001b[1;32m      3\u001b[0m \u001b[38;5;28;01mif\u001b[39;00m os\u001b[38;5;241m.\u001b[39mpath\u001b[38;5;241m.\u001b[39misfile(\u001b[38;5;124m'\u001b[39m\u001b[38;5;124mquad_data/quad_traj.npz\u001b[39m\u001b[38;5;124m'\u001b[39m):\n\u001b[0;32m----> 4\u001b[0m     npzfile \u001b[38;5;241m=\u001b[39m \u001b[43mnp\u001b[49m\u001b[38;5;241m.\u001b[39mload(\u001b[38;5;124m'\u001b[39m\u001b[38;5;124mquad_data/quad_traj.npz\u001b[39m\u001b[38;5;124m'\u001b[39m)\n\u001b[1;32m      6\u001b[0m     plt\u001b[38;5;241m.\u001b[39mrcParams[\u001b[38;5;124m\"\u001b[39m\u001b[38;5;124mfigure.figsize\u001b[39m\u001b[38;5;124m\"\u001b[39m] \u001b[38;5;241m=\u001b[39m (\u001b[38;5;241m16\u001b[39m,\u001b[38;5;241m8\u001b[39m)\n\u001b[1;32m      7\u001b[0m     fig \u001b[38;5;241m=\u001b[39m plt\u001b[38;5;241m.\u001b[39mfigure()\n",
      "\u001b[0;31mNameError\u001b[0m: name 'np' is not defined"
     ]
    }
   ],
   "source": [
    "import os\n",
    "\n",
    "if os.path.isfile('quad_data/quad_traj.npz'):\n",
    "    npzfile = np.load('quad_data/quad_traj.npz')\n",
    "\n",
    "    plt.rcParams[\"figure.figsize\"] = (16,8)\n",
    "    fig = plt.figure()\n",
    "\n",
    "    ax = fig.add_subplot(311, title='Position')\n",
    "    ax.plot(npzfile['rateRoll'][:125], label='x')\n",
    "    ax.plot(npzfile['roll'][:125], label='y')\n",
    "    ax.legend()\n",
    "\n",
    "    # ax = fig.add_subplot(312, title='Angles')\n",
    "    # ax.plot(npzfile['e_roll'][:125], label='phi')\n",
    "    # ax.plot(npzfile['e_pitch'][:125], label='theta')\n",
    "    # ax.legend()\n",
    "\n",
    "    # ax = fig.add_subplot(313, title='Moments')\n",
    "    # ax.plot(npzfile['u2_pwm'][:125] / (2 ** 15), label='M1')\n",
    "    # ax.plot(npzfile['u3_pwm'][:125] / (2 ** 15), label='M2')\n",
    "    # ax.legend()\n",
    "else:\n",
    "    print('No flight data found.')"
   ]
  }
 ],
 "metadata": {
  "kernelspec": {
   "display_name": "Python 3.9.12 ('base')",
   "language": "python",
   "name": "python3"
  },
  "language_info": {
   "codemirror_mode": {
    "name": "ipython",
    "version": 3
   },
   "file_extension": ".py",
   "mimetype": "text/x-python",
   "name": "python",
   "nbconvert_exporter": "python",
   "pygments_lexer": "ipython3",
   "version": "3.8.10"
  },
  "vscode": {
   "interpreter": {
    "hash": "5d6b650af6f1107438756dd1352d7a89a41a028ee2fcef37485db36a2d7039ba"
   }
  }
 },
 "nbformat": 4,
 "nbformat_minor": 2
}
